{
  "nbformat": 4,
  "nbformat_minor": 0,
  "metadata": {
    "colab": {
      "provenance": [],
      "authorship_tag": "ABX9TyPHFvDthlm0l9fnIz5jkHda",
      "include_colab_link": true
    },
    "kernelspec": {
      "name": "python3",
      "display_name": "Python 3"
    },
    "language_info": {
      "name": "python"
    }
  },
  "cells": [
    {
      "cell_type": "markdown",
      "metadata": {
        "id": "view-in-github",
        "colab_type": "text"
      },
      "source": [
        "<a href=\"https://colab.research.google.com/github/VictorSester/Database_inha_12224919/blob/main/DB_Midterm.ipynb\" target=\"_parent\"><img src=\"https://colab.research.google.com/assets/colab-badge.svg\" alt=\"Open In Colab\"/></a>"
      ]
    },
    {
      "cell_type": "code",
      "execution_count": 1,
      "metadata": {
        "id": "-Y6QQgCodEc8"
      },
      "outputs": [],
      "source": [
        "from sqlalchemy import create_engine\n",
        "my_conn = create_engine(\"sqlite:////content/midterm_database.db\")"
      ]
    },
    {
      "cell_type": "code",
      "source": [
        "conn = my_conn.connect()"
      ],
      "metadata": {
        "id": "KlghOmJEdJFY"
      },
      "execution_count": 2,
      "outputs": []
    },
    {
      "cell_type": "code",
      "source": [
        "conn.execute('''\n",
        "CREATE TABLE `Vehicle`(\n",
        "  `ID` VARCHAR NOT NULL,\n",
        "  `Registration_ID` VARCHAR NOT NULL,\n",
        "  `Manufacturer` VARCHAR NOT NULL,\n",
        "  `Model` VARCHAR NOT NULL,\n",
        "  `Color` VARCHAR NOT NULL,\n",
        "  `Current_Odometer` BIGINT,\n",
        "  `Passenger_capacity` TINYINT NOT NULL,\n",
        "  `Repair_Action_type` CHAR NOT NULL,\n",
        "  PRIMARY KEY(`ID`)\n",
        ");''')"
      ],
      "metadata": {
        "colab": {
          "base_uri": "https://localhost:8080/"
        },
        "id": "DI0faWCddKhf",
        "outputId": "efc1a508-f918-4a84-9c0d-9c4bf6c44c1e"
      },
      "execution_count": 3,
      "outputs": [
        {
          "output_type": "execute_result",
          "data": {
            "text/plain": [
              "<sqlalchemy.engine.cursor.LegacyCursorResult at 0x7fc3d24c3e10>"
            ]
          },
          "metadata": {},
          "execution_count": 3
        }
      ]
    },
    {
      "cell_type": "code",
      "source": [
        "conn.execute('''\n",
        "CREATE TABLE `Repair`(\n",
        "  `Action_type` CHAR NOT NULL,\n",
        "  `Odometer` BIGINT,\n",
        "  `Final_cost` INT,\n",
        "  `Action_desc` VARCHAR NOT NULL,\n",
        "  `Date` DATE NOT NULL,\n",
        "  `Vehicle_ID` VARCHAR NOT NULL,\n",
        "  PRIMARY KEY(`Action_type`)\n",
        ");''')\n"
      ],
      "metadata": {
        "colab": {
          "base_uri": "https://localhost:8080/"
        },
        "id": "0YdRlNKLdLyG",
        "outputId": "ea70ce57-d749-4a2e-e3af-3a47e35f9621"
      },
      "execution_count": 4,
      "outputs": [
        {
          "output_type": "execute_result",
          "data": {
            "text/plain": [
              "<sqlalchemy.engine.cursor.LegacyCursorResult at 0x7fc3d245fed0>"
            ]
          },
          "metadata": {},
          "execution_count": 4
        }
      ]
    },
    {
      "cell_type": "code",
      "source": [
        "conn.execute('''\n",
        "CREATE TABLE `Countries`\n",
        "  (`Name` VARCHAR NOT NULL, `Languages_ID` INT NOT NULL, PRIMARY KEY(`Name`));\n",
        "''')"
      ],
      "metadata": {
        "colab": {
          "base_uri": "https://localhost:8080/"
        },
        "id": "5zdTdI8AdNii",
        "outputId": "09c8536e-ff1f-4670-ec23-3c36fc89df6c"
      },
      "execution_count": 5,
      "outputs": [
        {
          "output_type": "execute_result",
          "data": {
            "text/plain": [
              "<sqlalchemy.engine.cursor.LegacyCursorResult at 0x7fc3d245fe10>"
            ]
          },
          "metadata": {},
          "execution_count": 5
        }
      ]
    },
    {
      "cell_type": "code",
      "source": [
        "conn.execute('''\n",
        "CREATE TABLE `Games_Officials`(\n",
        "  `ID` INT NOT NULL,\n",
        "  `Countries_Name` VARCHAR NOT NULL,\n",
        "  `Based_city_ID` VARCHAR(8) NOT NULL,\n",
        "  `Name` VARCHAR NOT NULL,\n",
        "  `Role` VARCHAR NOT NULL,\n",
        "  `Languages_ID` INT NOT NULL,\n",
        "  PRIMARY KEY(`ID`)\n",
        ");''')"
      ],
      "metadata": {
        "colab": {
          "base_uri": "https://localhost:8080/"
        },
        "id": "ajFRea-jdPVo",
        "outputId": "e044bb56-982f-4469-aba1-4e4bee3de21a"
      },
      "execution_count": 6,
      "outputs": [
        {
          "output_type": "execute_result",
          "data": {
            "text/plain": [
              "<sqlalchemy.engine.cursor.LegacyCursorResult at 0x7fc3d3061d50>"
            ]
          },
          "metadata": {},
          "execution_count": 6
        }
      ]
    },
    {
      "cell_type": "code",
      "source": [
        "conn.execute('''\n",
        "CREATE TABLE `Drivers_Informations`(\n",
        "  `ID` INT NOT NULL,\n",
        "  `Name` VARCHAR NOT NULL,\n",
        "  `License_number` BIGINT(18) NOT NULL,\n",
        "  `Clerence_level` INT NOT NULL,\n",
        "  `SLTVT_Level` INT,\n",
        "  `FATL_Level` INT,\n",
        "  `Languages_ID` INT NOT NULL,\n",
        "  PRIMARY KEY(`ID`)\n",
        ");''')"
      ],
      "metadata": {
        "colab": {
          "base_uri": "https://localhost:8080/"
        },
        "id": "xHO1Y9-LdPf5",
        "outputId": "c2a92c4d-f256-442b-b4b0-5db6ed883725"
      },
      "execution_count": 7,
      "outputs": [
        {
          "output_type": "execute_result",
          "data": {
            "text/plain": [
              "<sqlalchemy.engine.cursor.LegacyCursorResult at 0x7fc3d245fb50>"
            ]
          },
          "metadata": {},
          "execution_count": 7
        }
      ]
    },
    {
      "cell_type": "code",
      "source": [
        "conn.execute('''\n",
        "CREATE TABLE `FATL`(\n",
        "  `Level` INT,\n",
        "  `Qualification_date` DATE,\n",
        "  `Drivers_informations_ID` INT NOT NULL,\n",
        "  PRIMARY KEY(`Level`)\n",
        ");\n",
        "''')"
      ],
      "metadata": {
        "colab": {
          "base_uri": "https://localhost:8080/"
        },
        "id": "WluXuF39dUoT",
        "outputId": "a45a6bfd-1e84-4db8-8ee8-6f6021e7cbe3"
      },
      "execution_count": 8,
      "outputs": [
        {
          "output_type": "execute_result",
          "data": {
            "text/plain": [
              "<sqlalchemy.engine.cursor.LegacyCursorResult at 0x7fc3d24671d0>"
            ]
          },
          "metadata": {},
          "execution_count": 8
        }
      ]
    },
    {
      "cell_type": "code",
      "source": [
        "conn.execute('''\n",
        "CREATE TABLE `SLTVT`(\n",
        "  `Level` INT,\n",
        "  `Qualification_date` DATE,\n",
        "  `Certifying_autho` VARCHAR,\n",
        "  `Drivers_informations_ID` INT NOT NULL,\n",
        "  PRIMARY KEY(`Level`)\n",
        ");''')"
      ],
      "metadata": {
        "colab": {
          "base_uri": "https://localhost:8080/"
        },
        "id": "QGL-fUoZdfXF",
        "outputId": "41daecb5-58a9-48bc-d684-1a8e6992233b"
      },
      "execution_count": 9,
      "outputs": [
        {
          "output_type": "execute_result",
          "data": {
            "text/plain": [
              "<sqlalchemy.engine.cursor.LegacyCursorResult at 0x7fc3d8fdeb10>"
            ]
          },
          "metadata": {},
          "execution_count": 9
        }
      ]
    },
    {
      "cell_type": "code",
      "source": [
        "conn.execute('''\n",
        "CREATE TABLE `Booking`(\n",
        "  `ID` INT NOT NULL,\n",
        "  `Trip_start` DATETIME NOT NULL,\n",
        "  `Trip_end` DATETIME NOT NULL,\n",
        "  `Odometer_start` BIGINT NOT NULL,\n",
        "  `Odometer_end` BIGINT NOT NULL,\n",
        "  `Games_Officials_ID` INT NOT NULL,\n",
        "  `Drivers_Informations_ID` INT NOT NULL,\n",
        "  `Vehicle_ID` VARCHAR NOT NULL,\n",
        "  `Trip_ID` INT NOT NULL,\n",
        "  PRIMARY KEY(`ID`)\n",
        ");''')"
      ],
      "metadata": {
        "colab": {
          "base_uri": "https://localhost:8080/"
        },
        "id": "-ju7NqCudpDN",
        "outputId": "a180f67d-5705-4066-a7bb-340f3d386a8e"
      },
      "execution_count": 10,
      "outputs": [
        {
          "output_type": "execute_result",
          "data": {
            "text/plain": [
              "<sqlalchemy.engine.cursor.LegacyCursorResult at 0x7fc3d3061b50>"
            ]
          },
          "metadata": {},
          "execution_count": 10
        }
      ]
    },
    {
      "cell_type": "code",
      "source": [
        "conn.execute('''\n",
        "CREATE TABLE `Trip`(\n",
        "  `ID` INT NOT NULL,\n",
        "  `Pick_Up_ID` INT NOT NULL,\n",
        "  `Drop_Off_ID` INT NOT NULL,\n",
        "  PRIMARY KEY(`ID`)\n",
        ");''')"
      ],
      "metadata": {
        "colab": {
          "base_uri": "https://localhost:8080/"
        },
        "id": "0gnAaev5dr4W",
        "outputId": "9a500c6a-a414-43d9-bdfe-f2dd60209c91"
      },
      "execution_count": 11,
      "outputs": [
        {
          "output_type": "execute_result",
          "data": {
            "text/plain": [
              "<sqlalchemy.engine.cursor.LegacyCursorResult at 0x7fc3d246ee90>"
            ]
          },
          "metadata": {},
          "execution_count": 11
        }
      ]
    },
    {
      "cell_type": "code",
      "source": [
        "conn.execute('''\n",
        "CREATE TABLE `Languages`(`ID` INT NOT NULL, PRIMARY KEY(`ID`));''')"
      ],
      "metadata": {
        "colab": {
          "base_uri": "https://localhost:8080/"
        },
        "id": "sDz62Tigd0OE",
        "outputId": "42368e1a-2ddb-43cd-c2c3-774b965fed07"
      },
      "execution_count": 12,
      "outputs": [
        {
          "output_type": "execute_result",
          "data": {
            "text/plain": [
              "<sqlalchemy.engine.cursor.LegacyCursorResult at 0x7fc3d245fb90>"
            ]
          },
          "metadata": {},
          "execution_count": 12
        }
      ]
    },
    {
      "cell_type": "code",
      "source": [
        "conn.execute('''\n",
        "CREATE TABLE `Pick_Up`(\n",
        "  `ID` INT NOT NULL,\n",
        "  `Adress` VARCHAR NOT NULL,\n",
        "  `Location_Type` VARCHAR NOT NULL,\n",
        "  PRIMARY KEY(`ID`)\n",
        ");''')"
      ],
      "metadata": {
        "colab": {
          "base_uri": "https://localhost:8080/"
        },
        "id": "G_xc1sFRd2SS",
        "outputId": "cbb065b3-7407-4d7e-c61f-6144732c3bb9"
      },
      "execution_count": 13,
      "outputs": [
        {
          "output_type": "execute_result",
          "data": {
            "text/plain": [
              "<sqlalchemy.engine.cursor.LegacyCursorResult at 0x7fc3d246edd0>"
            ]
          },
          "metadata": {},
          "execution_count": 13
        }
      ]
    },
    {
      "cell_type": "code",
      "source": [
        "conn.execute('''\n",
        "CREATE TABLE `Drop_Off`(\n",
        "  `ID` INT NOT NULL,\n",
        "  `Adress` VARCHAR NOT NULL,\n",
        "  `Location_Type` VARCHAR NOT NULL,\n",
        "  PRIMARY KEY(`ID`)\n",
        ");''')"
      ],
      "metadata": {
        "colab": {
          "base_uri": "https://localhost:8080/"
        },
        "id": "58uGB7DPd3gI",
        "outputId": "ecdc7eb0-83c5-433f-bfbd-6fdf05243dfb"
      },
      "execution_count": 14,
      "outputs": [
        {
          "output_type": "execute_result",
          "data": {
            "text/plain": [
              "<sqlalchemy.engine.cursor.LegacyCursorResult at 0x7fc3d3061cd0>"
            ]
          },
          "metadata": {},
          "execution_count": 14
        }
      ]
    },
    {
      "cell_type": "code",
      "source": [
        "conn.execute('''\n",
        "INSERT INTO Vehicle ('ID', 'Registration_ID', 'Manufacturer', 'Model', 'Color', 'Current_Odometer', 'Passenger_capacity', 'Repair_Action_type') VALUES (1, 11, 'Ford', 'Mondeo', 'Black', 123456, 3, 'M');'''\n",
        ")"
      ],
      "metadata": {
        "colab": {
          "base_uri": "https://localhost:8080/"
        },
        "id": "OzEP_94OeA35",
        "outputId": "52dca538-d73d-47f5-990e-a363e594cdfb"
      },
      "execution_count": 15,
      "outputs": [
        {
          "output_type": "execute_result",
          "data": {
            "text/plain": [
              "<sqlalchemy.engine.cursor.LegacyCursorResult at 0x7fc3d2413b90>"
            ]
          },
          "metadata": {},
          "execution_count": 15
        }
      ]
    },
    {
      "cell_type": "code",
      "source": [
        "conn.execute('''\n",
        "INSERT INTO Repair ('Action_type', 'Odometer', 'Final_cost', 'Action_desc', 'Date', 'Vehicle_ID') VALUES ('M', 123456, 230, 'Oil_level', 2022-10-22 ,1);'''\n",
        ")"
      ],
      "metadata": {
        "colab": {
          "base_uri": "https://localhost:8080/"
        },
        "id": "pxx36wJ-eCwC",
        "outputId": "a3ab45c3-de1d-4540-b0a9-f557048526a9"
      },
      "execution_count": 16,
      "outputs": [
        {
          "output_type": "execute_result",
          "data": {
            "text/plain": [
              "<sqlalchemy.engine.cursor.LegacyCursorResult at 0x7fc3d2416510>"
            ]
          },
          "metadata": {},
          "execution_count": 16
        }
      ]
    },
    {
      "cell_type": "code",
      "source": [
        "conn.execute('''\n",
        "INSERT INTO Countries ('Name', 'Languages_ID') VALUES ('France' ,'1');'''\n",
        ")"
      ],
      "metadata": {
        "colab": {
          "base_uri": "https://localhost:8080/"
        },
        "id": "gmzCWAlzeEp3",
        "outputId": "cd0309aa-1e56-4389-8d78-d2619ac2e63d"
      },
      "execution_count": 17,
      "outputs": [
        {
          "output_type": "execute_result",
          "data": {
            "text/plain": [
              "<sqlalchemy.engine.cursor.LegacyCursorResult at 0x7fc3d241be90>"
            ]
          },
          "metadata": {},
          "execution_count": 17
        }
      ]
    },
    {
      "cell_type": "code",
      "source": [
        "conn.execute('''\n",
        "INSERT INTO Games_Officials ('ID', 'Countries_Name', 'Based_city_ID', 'Name', 'Role', 'Languages_ID') VALUES ('1', 'France', 'Paris', 'Olivier Dusoleil', 'Referee', '1');\n",
        "''')"
      ],
      "metadata": {
        "colab": {
          "base_uri": "https://localhost:8080/"
        },
        "id": "gpMcajmheH_-",
        "outputId": "5ec18043-05c3-4527-874b-92d6a53f7a2a"
      },
      "execution_count": 18,
      "outputs": [
        {
          "output_type": "execute_result",
          "data": {
            "text/plain": [
              "<sqlalchemy.engine.cursor.LegacyCursorResult at 0x7fc3d241bcd0>"
            ]
          },
          "metadata": {},
          "execution_count": 18
        }
      ]
    },
    {
      "cell_type": "code",
      "source": [
        "conn.execute('''\n",
        "INSERT INTO Drivers_Informations ('ID', 'Name', 'License_number', 'Clerence_level', 'SLTVT_Level', 'FATL_Level', 'Languages_ID') VALUES ('1' ,'Mark', '84156', '1', '0', '0', '1');'''\n",
        ")"
      ],
      "metadata": {
        "colab": {
          "base_uri": "https://localhost:8080/"
        },
        "id": "VeOFvQqReJRI",
        "outputId": "55d6a05e-4b9c-477b-fd78-74529dedfa0b"
      },
      "execution_count": 19,
      "outputs": [
        {
          "output_type": "execute_result",
          "data": {
            "text/plain": [
              "<sqlalchemy.engine.cursor.LegacyCursorResult at 0x7fc3d2413750>"
            ]
          },
          "metadata": {},
          "execution_count": 19
        }
      ]
    },
    {
      "cell_type": "code",
      "source": [
        "conn.execute('''\n",
        "INSERT INTO FATL ('Level', 'Qualification_date', 'Drivers_informations_ID') VALUES ('0' ,'', '84156');'''\n",
        ")"
      ],
      "metadata": {
        "colab": {
          "base_uri": "https://localhost:8080/"
        },
        "id": "KQ09bM0GeNuI",
        "outputId": "6b19f5ab-31b0-43d4-f32b-4856c33a1c59"
      },
      "execution_count": 23,
      "outputs": [
        {
          "output_type": "execute_result",
          "data": {
            "text/plain": [
              "<sqlalchemy.engine.cursor.LegacyCursorResult at 0x7fc3d2383f50>"
            ]
          },
          "metadata": {},
          "execution_count": 23
        }
      ]
    },
    {
      "cell_type": "code",
      "source": [
        "conn.execute('''\n",
        "INSERT INTO SLTVT ('Level', 'Qualification_date', 'Certifying_autho', 'Drivers_informations_ID') VALUES ('0' ,'', '', '84156');'''\n",
        ")"
      ],
      "metadata": {
        "colab": {
          "base_uri": "https://localhost:8080/"
        },
        "id": "QuU0VtuPedHg",
        "outputId": "2f5c6d9c-7e55-49fe-d554-233f71a807f4"
      },
      "execution_count": 24,
      "outputs": [
        {
          "output_type": "execute_result",
          "data": {
            "text/plain": [
              "<sqlalchemy.engine.cursor.LegacyCursorResult at 0x7fc3d238a8d0>"
            ]
          },
          "metadata": {},
          "execution_count": 24
        }
      ]
    },
    {
      "cell_type": "code",
      "source": [
        "conn.execute('''\n",
        "INSERT INTO Booking ('ID', 'Trip_start', 'Trip_end', 'Odometer_start', 'Odometer_end', 'Games_Officials_ID', 'Drivers_informations_ID', 'Vehicle_ID', 'Trip_ID') VALUES ('1' ,'2022-10-22 14:12:01', '2022-10-22 14:44:50', '123456', '123467', '1', '1', '1', '1');'''\n",
        ")"
      ],
      "metadata": {
        "colab": {
          "base_uri": "https://localhost:8080/"
        },
        "id": "ufy_T7n9eh5f",
        "outputId": "32f2a885-2c53-4c5c-f0cf-375954209b04"
      },
      "execution_count": 35,
      "outputs": [
        {
          "output_type": "execute_result",
          "data": {
            "text/plain": [
              "<sqlalchemy.engine.cursor.LegacyCursorResult at 0x7fc3d238a7d0>"
            ]
          },
          "metadata": {},
          "execution_count": 35
        }
      ]
    },
    {
      "cell_type": "code",
      "source": [
        "conn.execute('''\n",
        "INSERT INTO Trip ('ID', 'Pick_Up_ID', 'Drop_Off_ID') VALUES ('1' ,'1', '1');'''\n",
        ")"
      ],
      "metadata": {
        "colab": {
          "base_uri": "https://localhost:8080/"
        },
        "id": "SW4FjXV2eiAe",
        "outputId": "3bfcfa99-c930-4d42-f555-07ecd32ce8b0"
      },
      "execution_count": 30,
      "outputs": [
        {
          "output_type": "execute_result",
          "data": {
            "text/plain": [
              "<sqlalchemy.engine.cursor.LegacyCursorResult at 0x7fc3d241b590>"
            ]
          },
          "metadata": {},
          "execution_count": 30
        }
      ]
    },
    {
      "cell_type": "code",
      "source": [
        "conn.execute('''\n",
        "INSERT INTO Languages ('ID') VALUES ('1');'''\n",
        ")"
      ],
      "metadata": {
        "colab": {
          "base_uri": "https://localhost:8080/"
        },
        "id": "pfuIWeYjfY9v",
        "outputId": "22bd1dcd-1a9b-41c9-e760-4732b9017740"
      },
      "execution_count": 31,
      "outputs": [
        {
          "output_type": "execute_result",
          "data": {
            "text/plain": [
              "<sqlalchemy.engine.cursor.LegacyCursorResult at 0x7fc3d231ec10>"
            ]
          },
          "metadata": {},
          "execution_count": 31
        }
      ]
    },
    {
      "cell_type": "code",
      "source": [
        "conn.execute('''\n",
        "INSERT INTO Pick_UP ('ID', 'Adress', 'Location_Type') VALUES ('1' ,'232 Inju daero', 'house');'''\n",
        ")"
      ],
      "metadata": {
        "colab": {
          "base_uri": "https://localhost:8080/"
        },
        "id": "dBvRq8BVfbbG",
        "outputId": "a2f13103-bfef-4d67-b93b-a8659bb5b990"
      },
      "execution_count": 32,
      "outputs": [
        {
          "output_type": "execute_result",
          "data": {
            "text/plain": [
              "<sqlalchemy.engine.cursor.LegacyCursorResult at 0x7fc3d231e610>"
            ]
          },
          "metadata": {},
          "execution_count": 32
        }
      ]
    },
    {
      "cell_type": "code",
      "source": [
        "conn.execute('''\n",
        "INSERT INTO Drop_Off ('ID', 'Adress', 'Location_Type') VALUES ('2' ,'34 Inha roe', 'complex');'''\n",
        ")"
      ],
      "metadata": {
        "colab": {
          "base_uri": "https://localhost:8080/"
        },
        "id": "lz5mmn8Gfdwa",
        "outputId": "4baa3d01-e1fe-4d60-c982-bec8ae543c34"
      },
      "execution_count": 33,
      "outputs": [
        {
          "output_type": "execute_result",
          "data": {
            "text/plain": [
              "<sqlalchemy.engine.cursor.LegacyCursorResult at 0x7fc3d237d2d0>"
            ]
          },
          "metadata": {},
          "execution_count": 33
        }
      ]
    }
  ]
}